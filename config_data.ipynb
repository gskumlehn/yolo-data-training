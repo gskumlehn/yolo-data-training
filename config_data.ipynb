{
  "nbformat": 4,
  "nbformat_minor": 0,
  "metadata": {
    "colab": {
      "provenance": [],
      "authorship_tag": "ABX9TyPSL/MH1I0lm8jARIXJCvLd",
      "include_colab_link": true
    },
    "kernelspec": {
      "name": "python3",
      "display_name": "Python 3"
    },
    "language_info": {
      "name": "python"
    }
  },
  "cells": [
    {
      "cell_type": "markdown",
      "metadata": {
        "id": "view-in-github",
        "colab_type": "text"
      },
      "source": [
        "<a href=\"https://colab.research.google.com/github/gskumlehn/yolo-data-training/blob/main/config_data.ipynb\" target=\"_parent\"><img src=\"https://colab.research.google.com/assets/colab-badge.svg\" alt=\"Open In Colab\"/></a>"
      ]
    },
    {
      "cell_type": "code",
      "source": [
        "from google.colab import drive\n",
        "drive.mount('/content/drive')"
      ],
      "metadata": {
        "colab": {
          "base_uri": "https://localhost:8080/"
        },
        "id": "rJR6ydQ9A2-z",
        "outputId": "4a55f98e-5a81-4916-a187-c9638f8d9ed0"
      },
      "execution_count": 4,
      "outputs": [
        {
          "output_type": "stream",
          "name": "stdout",
          "text": [
            "Mounted at /content/drive\n"
          ]
        }
      ]
    },
    {
      "cell_type": "code",
      "execution_count": 5,
      "metadata": {
        "colab": {
          "base_uri": "https://localhost:8080/"
        },
        "id": "eCiwHBhyA0TY",
        "outputId": "706e8ee0-f99f-4fb7-f308-cdd4012ed76c"
      },
      "outputs": [
        {
          "output_type": "stream",
          "name": "stdout",
          "text": [
            "Arquivos train.txt e val.txt gerados com sucesso!\n"
          ]
        }
      ],
      "source": [
        "import os\n",
        "\n",
        "# Caminho para as pastas de imagens\n",
        "train_dir = '/content/drive/MyDrive/coco-dataset/train2017'\n",
        "val_dir = '/content/drive/MyDrive/coco-dataset/val2017'\n",
        "\n",
        "# Caminho para salvar os arquivos de texto\n",
        "train_txt = '/content/drive/MyDrive/coco-dataset/train.txt'\n",
        "val_txt = '/content/drive/MyDrive/coco-dataset/val.txt'\n",
        "\n",
        "# Função para gerar os arquivos de lista\n",
        "def generate_image_list(image_dir, output_file):\n",
        "    # Lista todas as imagens na pasta\n",
        "    image_files = [f for f in os.listdir(image_dir) if f.endswith('.jpg')]\n",
        "\n",
        "    # Caminhos completos das imagens\n",
        "    image_paths = [os.path.join(image_dir, f) for f in image_files]\n",
        "\n",
        "    # Escrever os caminhos no arquivo de texto\n",
        "    with open(output_file, 'w') as file:\n",
        "        for path in image_paths:\n",
        "            file.write(f\"{path}\\n\")\n",
        "\n",
        "# Gerar o train.txt e val.txt\n",
        "generate_image_list(train_dir, train_txt)\n",
        "generate_image_list(val_dir, val_txt)\n",
        "\n",
        "print(\"Arquivos train.txt e val.txt gerados com sucesso!\")\n"
      ]
    },
    {
      "cell_type": "code",
      "source": [
        "# Caminho para a pasta onde os pesos serão salvos\n",
        "backup_dir = '/content/drive/MyDrive/coco-dataset/backup/'\n",
        "\n",
        "# Criar a pasta backup se não existir\n",
        "os.makedirs(backup_dir, exist_ok=True)\n",
        "\n",
        "# URL para os pesos pré-treinados do YOLOv3\n",
        "weights_url = 'https://pjreddie.com/media/files/yolov3.weights'\n",
        "\n",
        "# Caminho completo para salvar o arquivo de pesos\n",
        "weights_path = os.path.join(backup_dir, 'yolov3.weights')\n",
        "\n",
        "# Baixar os pesos utilizando wget\n",
        "!wget -O {weights_path} {weights_url}\n",
        "\n",
        "print(\"Pesos do YOLOv3 baixados e salvos na pasta backup!\")"
      ],
      "metadata": {
        "colab": {
          "base_uri": "https://localhost:8080/"
        },
        "id": "pfXnp4kBCbhY",
        "outputId": "74d53d6e-3ffb-4748-a689-fffc3aef0455"
      },
      "execution_count": 7,
      "outputs": [
        {
          "output_type": "stream",
          "name": "stdout",
          "text": [
            "--2024-12-27 21:33:19--  https://pjreddie.com/media/files/yolov3.weights\n",
            "Resolving pjreddie.com (pjreddie.com)... 162.0.215.52\n",
            "Connecting to pjreddie.com (pjreddie.com)|162.0.215.52|:443... connected.\n",
            "HTTP request sent, awaiting response... 200 OK\n",
            "Length: 248007048 (237M) [application/octet-stream]\n",
            "Saving to: ‘/content/drive/MyDrive/coco-dataset/backup/yolov3.weights’\n",
            "\n",
            "/content/drive/MyDr 100%[===================>] 236.52M  40.4MB/s    in 6.4s    \n",
            "\n",
            "2024-12-27 21:33:26 (37.1 MB/s) - ‘/content/drive/MyDrive/coco-dataset/backup/yolov3.weights’ saved [248007048/248007048]\n",
            "\n",
            "Pesos do YOLOv3 baixados e salvos na pasta backup!\n"
          ]
        }
      ]
    },
    {
      "cell_type": "code",
      "source": [
        "# Caminho para a pasta onde o yolov3.cfg será salvo\n",
        "cfg_dir = '/content/drive/MyDrive/coco-dataset/'\n",
        "\n",
        "# URL para o arquivo de configuração YOLOv3\n",
        "cfg_url = 'https://raw.githubusercontent.com/pjreddie/darknet/master/cfg/yolov3.cfg'\n",
        "\n",
        "# Caminho completo para salvar o arquivo de configuração\n",
        "cfg_path = os.path.join(cfg_dir, 'yolov3.cfg')\n",
        "\n",
        "# Baixar o arquivo de configuração utilizando wget\n",
        "!wget -O {cfg_path} {cfg_url}\n",
        "\n",
        "print(\"Arquivo yolov3.cfg baixado com sucesso!\")"
      ],
      "metadata": {
        "colab": {
          "base_uri": "https://localhost:8080/"
        },
        "id": "OnKOgV17DJXp",
        "outputId": "f7eef7fb-298c-4813-e9f9-dde2fe0072f7"
      },
      "execution_count": 9,
      "outputs": [
        {
          "output_type": "stream",
          "name": "stdout",
          "text": [
            "--2024-12-27 21:36:27--  https://raw.githubusercontent.com/pjreddie/darknet/master/cfg/yolov3.cfg\n",
            "Resolving raw.githubusercontent.com (raw.githubusercontent.com)... 185.199.108.133, 185.199.110.133, 185.199.109.133, ...\n",
            "Connecting to raw.githubusercontent.com (raw.githubusercontent.com)|185.199.108.133|:443... connected.\n",
            "HTTP request sent, awaiting response... 200 OK\n",
            "Length: 8342 (8.1K) [text/plain]\n",
            "Saving to: ‘/content/drive/MyDrive/coco-dataset/yolov3.cfg’\n",
            "\n",
            "\r          /content/   0%[                    ]       0  --.-KB/s               \r/content/drive/MyDr 100%[===================>]   8.15K  --.-KB/s    in 0.002s  \n",
            "\n",
            "2024-12-27 21:36:27 (4.35 MB/s) - ‘/content/drive/MyDrive/coco-dataset/yolov3.cfg’ saved [8342/8342]\n",
            "\n",
            "Arquivo yolov3.cfg baixado com sucesso!\n"
          ]
        }
      ]
    },
    {
      "cell_type": "code",
      "source": [
        "from google.colab import drive\n",
        "import os\n",
        "\n",
        "# Montar o Google Drive\n",
        "drive.mount('/content/drive')\n",
        "\n",
        "# Caminho para a pasta coco-dataset\n",
        "coco_dataset_dir = '/content/drive/MyDrive/coco-dataset/'\n",
        "\n",
        "# 1. Criando o arquivo coco.data\n",
        "coco_data_content = '''classes = 80\n",
        "train = /content/drive/MyDrive/coco-dataset/train.txt\n",
        "valid = /content/drive/MyDrive/coco-dataset/val.txt\n",
        "names = /content/drive/MyDrive/coco-dataset/coco.names\n",
        "backup = /content/drive/MyDrive/coco-dataset/backup/\n",
        "'''\n",
        "\n",
        "# Escrever o arquivo coco.data\n",
        "with open(os.path.join(coco_dataset_dir, 'coco.data'), 'w') as file:\n",
        "    file.write(coco_data_content)\n",
        "\n",
        "print(\"Arquivo coco.data criado com sucesso!\")\n",
        "\n",
        "# 2. Criando o arquivo coco.names com as 80 classes do COCO\n",
        "coco_names_content = '''person\n",
        "bicycle\n",
        "car\n",
        "motorbike\n",
        "aeroplane\n",
        "bus\n",
        "train\n",
        "truck\n",
        "boat\n",
        "traffic light\n",
        "fire hydrant\n",
        "nothing\n",
        "stop sign\n",
        "parking meter\n",
        "bench\n",
        "bird\n",
        "cat\n",
        "dog\n",
        "horse\n",
        "sheep\n",
        "cow\n",
        "elephant\n",
        "bear\n",
        "zebra\n",
        "giraffe\n",
        "backpack\n",
        "umbrella\n",
        "handbag\n",
        "tie\n",
        "suitcase\n",
        "frisbee\n",
        "skis\n",
        "snowboard\n",
        "sports ball\n",
        "kite\n",
        "baseball bat\n",
        "baseball glove\n",
        "skateboard\n",
        "surfboard\n",
        "tennis racket\n",
        "bottle\n",
        "wine glass\n",
        "cup\n",
        "fork\n",
        "knife\n",
        "spoon\n",
        "bowl\n",
        "banana\n",
        "apple\n",
        "sandwich\n",
        "orange\n",
        "broccoli\n",
        "carrot\n",
        "hot dog\n",
        "pizza\n",
        "donut\n",
        "cake\n",
        "chair\n",
        "couch\n",
        "potted plant\n",
        "bed\n",
        "dining table\n",
        "toilet\n",
        "tv\n",
        "laptop\n",
        "mouse\n",
        "remote\n",
        "keyboard\n",
        "cell phone\n",
        "microwave\n",
        "oven\n",
        "toaster\n",
        "sink\n",
        "refrigerator\n",
        "book\n",
        "clock\n",
        "vase\n",
        "scissors\n",
        "teddy bear\n",
        "hair drier\n",
        "toothbrush\n",
        "'''\n",
        "# Aqui você pode completar as 80 classes ou copiar a lista completa de [COCO classes](https://github.com/pjreddie/darknet/blob/master/data/coco.names)\n",
        "\n",
        "# Escrever o arquivo coco.names\n",
        "with open(os.path.join(coco_dataset_dir, 'coco.names'), 'w') as file:\n",
        "    file.write(coco_names_content)\n",
        "\n",
        "print(\"Arquivo coco.names criado com sucesso!\")\n",
        "\n",
        "# 3. Modificando o arquivo yolov3.cfg\n",
        "# Caminho para o arquivo de configuração YOLOv3\n",
        "yolov3_cfg_path = '/content/drive/MyDrive/coco-dataset/yolov3.cfg'\n",
        "\n",
        "# Abrir e modificar o arquivo yolov3.cfg\n",
        "with open(yolov3_cfg_path, 'r') as file:\n",
        "    cfg_content = file.readlines()\n",
        "\n",
        "# Ajustar as linhas necessárias no arquivo de configuração\n",
        "for i, line in enumerate(cfg_content):\n",
        "    # Alterar filtros para 255 (80 classes + 5) * 3\n",
        "    if line.strip().startswith('filters='):\n",
        "        cfg_content[i] = 'filters=255\\n'\n",
        "    # Alterar classes para 80\n",
        "    elif line.strip().startswith('classes='):\n",
        "        cfg_content[i] = 'classes=80\\n'\n",
        "\n",
        "# Salvar as modificações no arquivo yolov3.cfg\n",
        "with open(yolov3_cfg_path, 'w') as file:\n",
        "    file.writelines(cfg_content)\n",
        "\n",
        "print(\"Arquivo yolov3.cfg modificado com sucesso!\")\n"
      ],
      "metadata": {
        "colab": {
          "base_uri": "https://localhost:8080/"
        },
        "id": "b6nvcChKCE6H",
        "outputId": "22406998-ad4c-41f1-868d-13582b228c4d"
      },
      "execution_count": 10,
      "outputs": [
        {
          "output_type": "stream",
          "name": "stdout",
          "text": [
            "Drive already mounted at /content/drive; to attempt to forcibly remount, call drive.mount(\"/content/drive\", force_remount=True).\n",
            "Arquivo coco.data criado com sucesso!\n",
            "Arquivo coco.names criado com sucesso!\n",
            "Arquivo yolov3.cfg modificado com sucesso!\n"
          ]
        }
      ]
    }
  ]
}