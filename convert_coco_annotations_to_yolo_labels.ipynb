{
  "cells": [
    {
      "cell_type": "markdown",
      "metadata": {
        "id": "view-in-github",
        "colab_type": "text"
      },
      "source": [
        "<a href=\"https://colab.research.google.com/github/gskumlehn/yolo-data-training/blob/main/convert_coco_annotations_to_yolo_labels.ipynb\" target=\"_parent\"><img src=\"https://colab.research.google.com/assets/colab-badge.svg\" alt=\"Open In Colab\"/></a>"
      ]
    },
    {
      "cell_type": "code",
      "execution_count": null,
      "metadata": {
        "colab": {
          "base_uri": "https://localhost:8080/"
        },
        "id": "kAb8QkpMxz2p",
        "outputId": "e541095c-af1b-4efd-f183-892bb96b5ca4"
      },
      "outputs": [
        {
          "output_type": "stream",
          "name": "stdout",
          "text": [
            "Montando o Google Drive...\n",
            "Mounted at /content/drive\n",
            "Lendo anotações do arquivo /content/drive/My Drive/coco-dataset/annotations/instances_train2017.json...\n",
            "Convertendo anotações para o formato YOLO...\n"
          ]
        }
      ],
      "source": [
        "import json\n",
        "import os\n",
        "from google.colab import drive\n",
        "\n",
        "# Montar o Google Drive\n",
        "print(\"Montando o Google Drive...\")\n",
        "drive.mount('/content/drive')\n",
        "\n",
        "# Caminho no Google Drive para o dataset\n",
        "coco_annotations_path = '/content/drive/My Drive/coco-dataset/annotations/instances_train2017.json'\n",
        "coco_images_path = '/content/drive/My Drive/coco-dataset/train2017/'\n",
        "output_labels_path = '/content/drive/My Drive/coco-dataset/yolo-labels/'\n",
        "\n",
        "# Criar pasta de saída para os labels no formato YOLO\n",
        "os.makedirs(output_labels_path, exist_ok=True)\n",
        "\n",
        "# Função para normalizar valores\n",
        "def normalize_bbox(bbox, img_width, img_height):\n",
        "    x, y, width, height = bbox\n",
        "    x_center = (x + width / 2) / img_width\n",
        "    y_center = (y + height / 2) / img_height\n",
        "    norm_width = width / img_width\n",
        "    norm_height = height / img_height\n",
        "    return x_center, y_center, norm_width, norm_height\n",
        "\n",
        "# Carregar arquivo de anotações COCO\n",
        "print(f\"Lendo anotações do arquivo {coco_annotations_path}...\")\n",
        "with open(coco_annotations_path, 'r') as f:\n",
        "    coco_data = json.load(f)\n",
        "\n",
        "# Criar um mapeamento de categorias\n",
        "category_map = {cat['id']: cat['name'] for cat in coco_data['categories']}\n",
        "\n",
        "# Processar cada anotação\n",
        "print(\"Convertendo anotações para o formato YOLO...\")\n",
        "for annotation in coco_data['annotations']:\n",
        "    image_id = annotation['image_id']\n",
        "    category_id = annotation['category_id']\n",
        "    bbox = annotation['bbox']\n",
        "\n",
        "    # Encontrar as dimensões da imagem correspondente\n",
        "    image_info = next(img for img in coco_data['images'] if img['id'] == image_id)\n",
        "    img_width, img_height = image_info['width'], image_info['height']\n",
        "\n",
        "    # Normalizar a bounding box\n",
        "    x_center, y_center, norm_width, norm_height = normalize_bbox(bbox, img_width, img_height)\n",
        "\n",
        "    # Criar o nome do arquivo de saída para os labels\n",
        "    output_file = os.path.join(output_labels_path, f\"{image_info['file_name'].split('.')[0]}.txt\")\n",
        "\n",
        "    # Escrever a anotação no arquivo YOLO\n",
        "    with open(output_file, 'a') as out_f:\n",
        "        out_f.write(f\"{category_id - 1} {x_center:.6f} {y_center:.6f} {norm_width:.6f} {norm_height:.6f}\\n\")\n",
        "\n",
        "print(\"Conversão concluída!\")\n"
      ]
    }
  ],
  "metadata": {
    "accelerator": "GPU",
    "colab": {
      "gpuType": "T4",
      "provenance": [],
      "authorship_tag": "ABX9TyPcIRIt5mdB4PALSQtvePPr",
      "include_colab_link": true
    },
    "kernelspec": {
      "display_name": "Python 3",
      "name": "python3"
    },
    "language_info": {
      "name": "python"
    }
  },
  "nbformat": 4,
  "nbformat_minor": 0
}